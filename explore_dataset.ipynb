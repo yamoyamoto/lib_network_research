{
 "cells": [
  {
   "cell_type": "code",
   "execution_count": 3,
   "outputs": [],
   "source": [
    "import pandas as pd"
   ],
   "metadata": {
    "collapsed": false
   }
  },
  {
   "cell_type": "code",
   "execution_count": 4,
   "outputs": [
    {
     "name": "stderr",
     "output_type": "stream",
     "text": [
      "/var/folders/13/y232dch15xxcp6qzk_17wwb80000gn/T/ipykernel_62478/2498608541.py:1: DtypeWarning: Columns (17) have mixed types. Specify dtype option on import or set low_memory=False.\n",
      "  projects = pd.read_csv(\"./libraries-1.6.0-2020-01-12/projects-1.6.0-2020-01-12.csv\")\n"
     ]
    }
   ],
   "source": [
    "projects = pd.read_csv(\"./libraries-1.6.0-2020-01-12/projects-1.6.0-2020-01-12.csv\")"
   ],
   "metadata": {
    "collapsed": false
   }
  },
  {
   "cell_type": "markdown",
   "source": [
    "# Projects"
   ],
   "metadata": {
    "collapsed": false
   }
  },
  {
   "cell_type": "markdown",
   "source": [
    "## Projectの数\n",
    "\n",
    "- npm: 1275082      (1275K)\n",
    "- Packagist: 313278 (313K)\n",
    "- Cargo: 35635      (36K)\n",
    "- RubyGems: 161608  (161K)\n",
    "- Go: 1818666       (1817K)\n"
   ],
   "metadata": {
    "collapsed": false
   }
  },
  {
   "cell_type": "code",
   "execution_count": 8,
   "outputs": [
    {
     "data": {
      "text/plain": "Platform\nAlcatraz          464\nAtom            12847\nBower           69685\nCPAN            37492\nCRAN            16695\nCargo           35635\nCarthage         3880\nClojars         24295\nCocoaPods       68060\nConda            1859\nDub              1903\nElm              1505\nEmacs            4869\nGo            1818666\nHackage         14471\nHaxelib          1424\nHex              9452\nHomebrew         4702\nInqlude           224\nJam               772\nJulia            3048\nMaven          184871\nMeteor          13410\nNPM           1275082\nNimble           1200\nNuGet          199447\nPackagist      313278\nPlatformIO       6700\nPub             10111\nPuppet           6432\nPureScript        384\nPypi           231690\nRacket           1679\nRubygems       161608\nShards             33\nSublime          2005\nSwiftPM          4207\nWordpress       65577\ndtype: int64"
     },
     "execution_count": 8,
     "metadata": {},
     "output_type": "execute_result"
    }
   ],
   "source": [
    "projects.groupby(\"Platform\").size()"
   ],
   "metadata": {
    "collapsed": false
   }
  },
  {
   "cell_type": "code",
   "execution_count": null,
   "outputs": [],
   "source": [],
   "metadata": {
    "collapsed": false
   }
  }
 ],
 "metadata": {
  "kernelspec": {
   "display_name": "Python 3",
   "language": "python",
   "name": "python3"
  },
  "language_info": {
   "codemirror_mode": {
    "name": "ipython",
    "version": 2
   },
   "file_extension": ".py",
   "mimetype": "text/x-python",
   "name": "python",
   "nbconvert_exporter": "python",
   "pygments_lexer": "ipython2",
   "version": "2.7.6"
  }
 },
 "nbformat": 4,
 "nbformat_minor": 0
}
