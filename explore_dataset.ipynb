{
 "cells": [
  {
   "cell_type": "code",
   "execution_count": 1,
   "metadata": {
    "collapsed": true
   },
   "outputs": [],
   "source": [
    "import pandas as pd"
   ]
  },
  {
   "cell_type": "code",
   "execution_count": 14,
   "outputs": [
    {
     "name": "stderr",
     "output_type": "stream",
     "text": [
      "/var/folders/13/y232dch15xxcp6qzk_17wwb80000gn/T/ipykernel_8738/4273701144.py:1: DtypeWarning: Columns (17) have mixed types. Specify dtype option on import or set low_memory=False.\n",
      "  projects_npm_only = pd.read_csv(\"libraries-1.6.0-2020-01-12/projects-npm-only-1.6.0-2020-01-12.csv\")\n"
     ]
    }
   ],
   "source": [
    "projects_npm_only = pd.read_csv(\"libraries-1.6.0-2020-01-12/projects-npm-only-1.6.0-2020-01-12.csv\")"
   ],
   "metadata": {
    "collapsed": false
   }
  },
  {
   "cell_type": "code",
   "execution_count": 15,
   "outputs": [],
   "source": [
    "projects_npm_only = projects_npm_only[projects_npm_only[\"Platform\"] == \"NPM\"]"
   ],
   "metadata": {
    "collapsed": false
   }
  },
  {
   "cell_type": "code",
   "execution_count": 17,
   "outputs": [
    {
     "data": {
      "text/plain": "              ID Platform                            Name  \\\n8          30617      NPM                               0   \n9          30618      NPM                             001   \n10         30619      NPM                         001_skt   \n11         30620      NPM                        001_test   \n12         30621      NPM                             007   \n...          ...      ...                             ...   \n1275356  4790287      NPM                urlparser-simple   \n1275357  4790288      NPM  red-contrib-samsung-tv-control   \n1275358  4790289      NPM                  ss_react_ts_ui   \n1275359  4790290      NPM                    dropdown-act   \n1275360  4790299      NPM          cra-template-ts-fabric   \n\n               Created Timestamp        Updated Timestamp  \\\n8        2015-01-12 14:21:37 UTC  2018-12-28 19:29:37 UTC   \n9        2015-01-12 14:21:41 UTC  2018-12-28 19:29:37 UTC   \n10       2015-01-12 14:21:41 UTC  2018-12-28 19:29:37 UTC   \n11       2015-01-12 14:21:41 UTC  2018-12-28 19:29:37 UTC   \n12       2015-01-12 14:21:42 UTC  2018-12-28 19:29:37 UTC   \n...                          ...                      ...   \n1275356  2020-01-13 01:24:26 UTC  2020-01-13 01:24:29 UTC   \n1275357  2020-01-13 01:24:26 UTC  2020-01-13 01:24:54 UTC   \n1275358  2020-01-13 01:28:25 UTC  2020-01-13 01:28:54 UTC   \n1275359  2020-01-13 01:28:25 UTC  2020-01-13 01:28:27 UTC   \n1275360  2020-01-13 01:28:54 UTC  2020-01-13 01:28:59 UTC   \n\n                                               Description  \\\n8                                                      NaN   \n9                           This is my first custom module   \n10                          This is my first custom module   \n11                          This is my first custom module   \n12       Returns a deep copy of an object with all func...   \n...                                                    ...   \n1275356           Simple URI parser for HTTP(S) and (S)FTP   \n1275357             Node-Red plugin for samsung tv control   \n1275358                                        react ts ui   \n1275359  This project was bootstrapped with [Create Rea...   \n1275360  The base TypeScript template for Create React ...   \n\n                                                  Keywords  \\\n8                                                      NaN   \n9                                                      NaN   \n10                                                     NaN   \n11                                                     NaN   \n12                                   testing,test,mock,spy   \n...                                                    ...   \n1275356                 url,parser,regex,uri,http,segments   \n1275357                        samsung,tv,control,node-red   \n1275358                                react,typescript,ui   \n1275359                                                NaN   \n1275360  react,create-react-app,template,typescript,fab...   \n\n                                              Homepage URL      Licenses  \\\n8                                                      NaN  BSD-2-Clause   \n9                                                      NaN           NaN   \n10                                                     NaN           NaN   \n11                                                     NaN           NaN   \n12                                                     NaN           MIT   \n...                                                    ...           ...   \n1275356                 https://github.com/dcmox/urlparser           MIT   \n1275357  https://github.com/Toxblh/node-red-contrib-sam...           MIT   \n1275358        https://github.com/shjyy1983/ss_react_ts_ui           ISC   \n1275359                                                NaN           NaN   \n1275360   https://github.com/nissan/cra-template-ts-fabric           MIT   \n\n                                            Repository URL  ...  SourceRank  \\\n8                                                      NaN  ...           8   \n9                                                      NaN  ...           2   \n10                                                     NaN  ...           2   \n11                                                     NaN  ...           2   \n12                           https://github.com/btford/007  ...           8   \n...                                                    ...  ...         ...   \n1275356                 https://github.com/dcmox/urlparser  ...           0   \n1275357  https://github.com/Toxblh/node-red-contrib-sam...  ...           0   \n1275358        https://github.com/shjyy1983/ss_react_ts_ui  ...           0   \n1275359                                                NaN  ...           0   \n1275360   https://github.com/nissan/cra-template-ts-fabric  ...           0   \n\n         Latest Release Publish Timestamp Latest Release Number  \\\n8                 2014-04-01 22:51:11 UTC                 0.0.0   \n9                 2014-08-08 06:02:45 UTC                 0.0.1   \n10                2014-08-08 06:09:50 UTC                 0.0.1   \n11                2014-08-08 06:36:13 UTC                 0.0.1   \n12                2013-07-29 18:57:38 UTC                 0.0.2   \n...                                   ...                   ...   \n1275356           2020-01-13 01:10:22 UTC                 1.0.0   \n1275357           2020-01-13 01:13:10 UTC                 1.0.0   \n1275358           2020-01-13 01:20:46 UTC                 1.0.5   \n1275359           2020-01-13 01:18:07 UTC                 0.2.0   \n1275360           2020-01-13 01:27:01 UTC                 1.0.0   \n\n        Package Manager ID  Dependent Projects Count    Language Status  \\\n8                      NaN                         6         NaN    NaN   \n9                      NaN                         2         NaN    NaN   \n10                     NaN                         2         NaN    NaN   \n11                     NaN                         1         NaN    NaN   \n12                     NaN                         2  JavaScript    NaN   \n...                    ...                       ...         ...    ...   \n1275356                NaN                         0         NaN    NaN   \n1275357                NaN                         0         NaN    NaN   \n1275358                NaN                         0  JavaScript    NaN   \n1275359                NaN                         0         NaN    NaN   \n1275360                NaN                         0  TypeScript    NaN   \n\n           Last synced Timestamp Dependent Repositories Count  Repository ID  \n8        2018-12-28 19:29:37 UTC                          429            NaN  \n9        2018-12-28 19:29:37 UTC                            1            NaN  \n10       2018-12-28 19:29:37 UTC                            1            NaN  \n11       2018-12-28 19:29:37 UTC                            1            NaN  \n12       2018-12-28 19:29:37 UTC                            2        49873.0  \n...                          ...                          ...            ...  \n1275356  2020-01-13 01:24:28 UTC                            0            NaN  \n1275357  2020-01-13 01:24:28 UTC                            0     41257604.0  \n1275358  2020-01-13 01:28:47 UTC                            0     41257629.0  \n1275359  2020-01-13 01:28:27 UTC                            0            NaN  \n1275360  2020-01-13 01:28:59 UTC                            0     41257632.0  \n\n[1275082 rows x 21 columns]",
      "text/html": "<div>\n<style scoped>\n    .dataframe tbody tr th:only-of-type {\n        vertical-align: middle;\n    }\n\n    .dataframe tbody tr th {\n        vertical-align: top;\n    }\n\n    .dataframe thead th {\n        text-align: right;\n    }\n</style>\n<table border=\"1\" class=\"dataframe\">\n  <thead>\n    <tr style=\"text-align: right;\">\n      <th></th>\n      <th>ID</th>\n      <th>Platform</th>\n      <th>Name</th>\n      <th>Created Timestamp</th>\n      <th>Updated Timestamp</th>\n      <th>Description</th>\n      <th>Keywords</th>\n      <th>Homepage URL</th>\n      <th>Licenses</th>\n      <th>Repository URL</th>\n      <th>...</th>\n      <th>SourceRank</th>\n      <th>Latest Release Publish Timestamp</th>\n      <th>Latest Release Number</th>\n      <th>Package Manager ID</th>\n      <th>Dependent Projects Count</th>\n      <th>Language</th>\n      <th>Status</th>\n      <th>Last synced Timestamp</th>\n      <th>Dependent Repositories Count</th>\n      <th>Repository ID</th>\n    </tr>\n  </thead>\n  <tbody>\n    <tr>\n      <th>8</th>\n      <td>30617</td>\n      <td>NPM</td>\n      <td>0</td>\n      <td>2015-01-12 14:21:37 UTC</td>\n      <td>2018-12-28 19:29:37 UTC</td>\n      <td>NaN</td>\n      <td>NaN</td>\n      <td>NaN</td>\n      <td>BSD-2-Clause</td>\n      <td>NaN</td>\n      <td>...</td>\n      <td>8</td>\n      <td>2014-04-01 22:51:11 UTC</td>\n      <td>0.0.0</td>\n      <td>NaN</td>\n      <td>6</td>\n      <td>NaN</td>\n      <td>NaN</td>\n      <td>2018-12-28 19:29:37 UTC</td>\n      <td>429</td>\n      <td>NaN</td>\n    </tr>\n    <tr>\n      <th>9</th>\n      <td>30618</td>\n      <td>NPM</td>\n      <td>001</td>\n      <td>2015-01-12 14:21:41 UTC</td>\n      <td>2018-12-28 19:29:37 UTC</td>\n      <td>This is my first custom module</td>\n      <td>NaN</td>\n      <td>NaN</td>\n      <td>NaN</td>\n      <td>NaN</td>\n      <td>...</td>\n      <td>2</td>\n      <td>2014-08-08 06:02:45 UTC</td>\n      <td>0.0.1</td>\n      <td>NaN</td>\n      <td>2</td>\n      <td>NaN</td>\n      <td>NaN</td>\n      <td>2018-12-28 19:29:37 UTC</td>\n      <td>1</td>\n      <td>NaN</td>\n    </tr>\n    <tr>\n      <th>10</th>\n      <td>30619</td>\n      <td>NPM</td>\n      <td>001_skt</td>\n      <td>2015-01-12 14:21:41 UTC</td>\n      <td>2018-12-28 19:29:37 UTC</td>\n      <td>This is my first custom module</td>\n      <td>NaN</td>\n      <td>NaN</td>\n      <td>NaN</td>\n      <td>NaN</td>\n      <td>...</td>\n      <td>2</td>\n      <td>2014-08-08 06:09:50 UTC</td>\n      <td>0.0.1</td>\n      <td>NaN</td>\n      <td>2</td>\n      <td>NaN</td>\n      <td>NaN</td>\n      <td>2018-12-28 19:29:37 UTC</td>\n      <td>1</td>\n      <td>NaN</td>\n    </tr>\n    <tr>\n      <th>11</th>\n      <td>30620</td>\n      <td>NPM</td>\n      <td>001_test</td>\n      <td>2015-01-12 14:21:41 UTC</td>\n      <td>2018-12-28 19:29:37 UTC</td>\n      <td>This is my first custom module</td>\n      <td>NaN</td>\n      <td>NaN</td>\n      <td>NaN</td>\n      <td>NaN</td>\n      <td>...</td>\n      <td>2</td>\n      <td>2014-08-08 06:36:13 UTC</td>\n      <td>0.0.1</td>\n      <td>NaN</td>\n      <td>1</td>\n      <td>NaN</td>\n      <td>NaN</td>\n      <td>2018-12-28 19:29:37 UTC</td>\n      <td>1</td>\n      <td>NaN</td>\n    </tr>\n    <tr>\n      <th>12</th>\n      <td>30621</td>\n      <td>NPM</td>\n      <td>007</td>\n      <td>2015-01-12 14:21:42 UTC</td>\n      <td>2018-12-28 19:29:37 UTC</td>\n      <td>Returns a deep copy of an object with all func...</td>\n      <td>testing,test,mock,spy</td>\n      <td>NaN</td>\n      <td>MIT</td>\n      <td>https://github.com/btford/007</td>\n      <td>...</td>\n      <td>8</td>\n      <td>2013-07-29 18:57:38 UTC</td>\n      <td>0.0.2</td>\n      <td>NaN</td>\n      <td>2</td>\n      <td>JavaScript</td>\n      <td>NaN</td>\n      <td>2018-12-28 19:29:37 UTC</td>\n      <td>2</td>\n      <td>49873.0</td>\n    </tr>\n    <tr>\n      <th>...</th>\n      <td>...</td>\n      <td>...</td>\n      <td>...</td>\n      <td>...</td>\n      <td>...</td>\n      <td>...</td>\n      <td>...</td>\n      <td>...</td>\n      <td>...</td>\n      <td>...</td>\n      <td>...</td>\n      <td>...</td>\n      <td>...</td>\n      <td>...</td>\n      <td>...</td>\n      <td>...</td>\n      <td>...</td>\n      <td>...</td>\n      <td>...</td>\n      <td>...</td>\n      <td>...</td>\n    </tr>\n    <tr>\n      <th>1275356</th>\n      <td>4790287</td>\n      <td>NPM</td>\n      <td>urlparser-simple</td>\n      <td>2020-01-13 01:24:26 UTC</td>\n      <td>2020-01-13 01:24:29 UTC</td>\n      <td>Simple URI parser for HTTP(S) and (S)FTP</td>\n      <td>url,parser,regex,uri,http,segments</td>\n      <td>https://github.com/dcmox/urlparser</td>\n      <td>MIT</td>\n      <td>https://github.com/dcmox/urlparser</td>\n      <td>...</td>\n      <td>0</td>\n      <td>2020-01-13 01:10:22 UTC</td>\n      <td>1.0.0</td>\n      <td>NaN</td>\n      <td>0</td>\n      <td>NaN</td>\n      <td>NaN</td>\n      <td>2020-01-13 01:24:28 UTC</td>\n      <td>0</td>\n      <td>NaN</td>\n    </tr>\n    <tr>\n      <th>1275357</th>\n      <td>4790288</td>\n      <td>NPM</td>\n      <td>red-contrib-samsung-tv-control</td>\n      <td>2020-01-13 01:24:26 UTC</td>\n      <td>2020-01-13 01:24:54 UTC</td>\n      <td>Node-Red plugin for samsung tv control</td>\n      <td>samsung,tv,control,node-red</td>\n      <td>https://github.com/Toxblh/node-red-contrib-sam...</td>\n      <td>MIT</td>\n      <td>https://github.com/Toxblh/node-red-contrib-sam...</td>\n      <td>...</td>\n      <td>0</td>\n      <td>2020-01-13 01:13:10 UTC</td>\n      <td>1.0.0</td>\n      <td>NaN</td>\n      <td>0</td>\n      <td>NaN</td>\n      <td>NaN</td>\n      <td>2020-01-13 01:24:28 UTC</td>\n      <td>0</td>\n      <td>41257604.0</td>\n    </tr>\n    <tr>\n      <th>1275358</th>\n      <td>4790289</td>\n      <td>NPM</td>\n      <td>ss_react_ts_ui</td>\n      <td>2020-01-13 01:28:25 UTC</td>\n      <td>2020-01-13 01:28:54 UTC</td>\n      <td>react ts ui</td>\n      <td>react,typescript,ui</td>\n      <td>https://github.com/shjyy1983/ss_react_ts_ui</td>\n      <td>ISC</td>\n      <td>https://github.com/shjyy1983/ss_react_ts_ui</td>\n      <td>...</td>\n      <td>0</td>\n      <td>2020-01-13 01:20:46 UTC</td>\n      <td>1.0.5</td>\n      <td>NaN</td>\n      <td>0</td>\n      <td>JavaScript</td>\n      <td>NaN</td>\n      <td>2020-01-13 01:28:47 UTC</td>\n      <td>0</td>\n      <td>41257629.0</td>\n    </tr>\n    <tr>\n      <th>1275359</th>\n      <td>4790290</td>\n      <td>NPM</td>\n      <td>dropdown-act</td>\n      <td>2020-01-13 01:28:25 UTC</td>\n      <td>2020-01-13 01:28:27 UTC</td>\n      <td>This project was bootstrapped with [Create Rea...</td>\n      <td>NaN</td>\n      <td>NaN</td>\n      <td>NaN</td>\n      <td>NaN</td>\n      <td>...</td>\n      <td>0</td>\n      <td>2020-01-13 01:18:07 UTC</td>\n      <td>0.2.0</td>\n      <td>NaN</td>\n      <td>0</td>\n      <td>NaN</td>\n      <td>NaN</td>\n      <td>2020-01-13 01:28:27 UTC</td>\n      <td>0</td>\n      <td>NaN</td>\n    </tr>\n    <tr>\n      <th>1275360</th>\n      <td>4790299</td>\n      <td>NPM</td>\n      <td>cra-template-ts-fabric</td>\n      <td>2020-01-13 01:28:54 UTC</td>\n      <td>2020-01-13 01:28:59 UTC</td>\n      <td>The base TypeScript template for Create React ...</td>\n      <td>react,create-react-app,template,typescript,fab...</td>\n      <td>https://github.com/nissan/cra-template-ts-fabric</td>\n      <td>MIT</td>\n      <td>https://github.com/nissan/cra-template-ts-fabric</td>\n      <td>...</td>\n      <td>0</td>\n      <td>2020-01-13 01:27:01 UTC</td>\n      <td>1.0.0</td>\n      <td>NaN</td>\n      <td>0</td>\n      <td>TypeScript</td>\n      <td>NaN</td>\n      <td>2020-01-13 01:28:59 UTC</td>\n      <td>0</td>\n      <td>41257632.0</td>\n    </tr>\n  </tbody>\n</table>\n<p>1275082 rows × 21 columns</p>\n</div>"
     },
     "execution_count": 17,
     "metadata": {},
     "output_type": "execute_result"
    }
   ],
   "source": [
    "projects_npm_only"
   ],
   "metadata": {
    "collapsed": false
   }
  },
  {
   "cell_type": "code",
   "execution_count": 20,
   "outputs": [],
   "source": [
    "dependencies_npm_only_1M = pd.read_csv(\"libraries-1.6.0-2020-01-12/dependencies-npm-only-1M-1.6.0-2020-01-12.csv\")"
   ],
   "metadata": {
    "collapsed": false
   }
  },
  {
   "cell_type": "code",
   "execution_count": 22,
   "outputs": [],
   "source": [
    "dependencies_npm_only_1M = dependencies_npm_only_1M[dependencies_npm_only_1M[\"Platform\"] == \"NPM\"]"
   ],
   "metadata": {
    "collapsed": false
   }
  },
  {
   "cell_type": "code",
   "execution_count": 23,
   "outputs": [
    {
     "data": {
      "text/plain": "              ID Platform   Project Name  Project ID Version Number  \\\n0        1080746      NPM            007       30621          0.0.1   \n1        1080747      NPM            007       30621          0.0.1   \n2        1080748      NPM            007       30621          0.0.2   \n3        1080749      NPM            007       30621          0.0.2   \n4        1080750      NPM             01       30622          0.0.1   \n...          ...      ...            ...         ...            ...   \n999995  75355174      NPM  co-wechat-api      136593          3.4.0   \n999996  75355213      NPM  co-wechat-api      136593          3.4.0   \n999997  75355465      NPM  co-wechat-api      136593          3.5.0   \n999998  75355555      NPM  co-wechat-api      136593          3.5.0   \n999999  75355699      NPM  co-wechat-api      136593          3.5.0   \n\n        Version ID Dependency Name Dependency Platform Dependency Kind  \\\n0            18347          should                 NPM     Development   \n1            18347           mocha                 NPM     Development   \n2            18348          should                 NPM     Development   \n3            18348           mocha                 NPM     Development   \n4            18349       commander                 NPM         runtime   \n...            ...             ...                 ...             ...   \n999995    12642650          eslint                 NPM     Development   \n999996    12642650       expect.js                 NPM     Development   \n999997    12642657      formstream                 NPM         runtime   \n999998    12642657          eslint                 NPM     Development   \n999999    12642657      travis-cov                 NPM     Development   \n\n        Optional Dependency Dependency Requirements  Dependency Project ID  \n0                     False                  ~1.2.2               313128.0  \n1                     False                 ~1.12.0               295363.0  \n2                     False                  ~1.2.2               313128.0  \n3                     False                 ~1.12.0               295363.0  \n4                     False                   1.0.x               137207.0  \n...                     ...                     ...                    ...  \n999995                False                       *               145391.0  \n999996                False                       *               280188.0  \n999997                False                 >=0.0.8               148876.0  \n999998                False                       *               145391.0  \n999999                False                       *               324958.0  \n\n[1000000 rows x 12 columns]",
      "text/html": "<div>\n<style scoped>\n    .dataframe tbody tr th:only-of-type {\n        vertical-align: middle;\n    }\n\n    .dataframe tbody tr th {\n        vertical-align: top;\n    }\n\n    .dataframe thead th {\n        text-align: right;\n    }\n</style>\n<table border=\"1\" class=\"dataframe\">\n  <thead>\n    <tr style=\"text-align: right;\">\n      <th></th>\n      <th>ID</th>\n      <th>Platform</th>\n      <th>Project Name</th>\n      <th>Project ID</th>\n      <th>Version Number</th>\n      <th>Version ID</th>\n      <th>Dependency Name</th>\n      <th>Dependency Platform</th>\n      <th>Dependency Kind</th>\n      <th>Optional Dependency</th>\n      <th>Dependency Requirements</th>\n      <th>Dependency Project ID</th>\n    </tr>\n  </thead>\n  <tbody>\n    <tr>\n      <th>0</th>\n      <td>1080746</td>\n      <td>NPM</td>\n      <td>007</td>\n      <td>30621</td>\n      <td>0.0.1</td>\n      <td>18347</td>\n      <td>should</td>\n      <td>NPM</td>\n      <td>Development</td>\n      <td>False</td>\n      <td>~1.2.2</td>\n      <td>313128.0</td>\n    </tr>\n    <tr>\n      <th>1</th>\n      <td>1080747</td>\n      <td>NPM</td>\n      <td>007</td>\n      <td>30621</td>\n      <td>0.0.1</td>\n      <td>18347</td>\n      <td>mocha</td>\n      <td>NPM</td>\n      <td>Development</td>\n      <td>False</td>\n      <td>~1.12.0</td>\n      <td>295363.0</td>\n    </tr>\n    <tr>\n      <th>2</th>\n      <td>1080748</td>\n      <td>NPM</td>\n      <td>007</td>\n      <td>30621</td>\n      <td>0.0.2</td>\n      <td>18348</td>\n      <td>should</td>\n      <td>NPM</td>\n      <td>Development</td>\n      <td>False</td>\n      <td>~1.2.2</td>\n      <td>313128.0</td>\n    </tr>\n    <tr>\n      <th>3</th>\n      <td>1080749</td>\n      <td>NPM</td>\n      <td>007</td>\n      <td>30621</td>\n      <td>0.0.2</td>\n      <td>18348</td>\n      <td>mocha</td>\n      <td>NPM</td>\n      <td>Development</td>\n      <td>False</td>\n      <td>~1.12.0</td>\n      <td>295363.0</td>\n    </tr>\n    <tr>\n      <th>4</th>\n      <td>1080750</td>\n      <td>NPM</td>\n      <td>01</td>\n      <td>30622</td>\n      <td>0.0.1</td>\n      <td>18349</td>\n      <td>commander</td>\n      <td>NPM</td>\n      <td>runtime</td>\n      <td>False</td>\n      <td>1.0.x</td>\n      <td>137207.0</td>\n    </tr>\n    <tr>\n      <th>...</th>\n      <td>...</td>\n      <td>...</td>\n      <td>...</td>\n      <td>...</td>\n      <td>...</td>\n      <td>...</td>\n      <td>...</td>\n      <td>...</td>\n      <td>...</td>\n      <td>...</td>\n      <td>...</td>\n      <td>...</td>\n    </tr>\n    <tr>\n      <th>999995</th>\n      <td>75355174</td>\n      <td>NPM</td>\n      <td>co-wechat-api</td>\n      <td>136593</td>\n      <td>3.4.0</td>\n      <td>12642650</td>\n      <td>eslint</td>\n      <td>NPM</td>\n      <td>Development</td>\n      <td>False</td>\n      <td>*</td>\n      <td>145391.0</td>\n    </tr>\n    <tr>\n      <th>999996</th>\n      <td>75355213</td>\n      <td>NPM</td>\n      <td>co-wechat-api</td>\n      <td>136593</td>\n      <td>3.4.0</td>\n      <td>12642650</td>\n      <td>expect.js</td>\n      <td>NPM</td>\n      <td>Development</td>\n      <td>False</td>\n      <td>*</td>\n      <td>280188.0</td>\n    </tr>\n    <tr>\n      <th>999997</th>\n      <td>75355465</td>\n      <td>NPM</td>\n      <td>co-wechat-api</td>\n      <td>136593</td>\n      <td>3.5.0</td>\n      <td>12642657</td>\n      <td>formstream</td>\n      <td>NPM</td>\n      <td>runtime</td>\n      <td>False</td>\n      <td>&gt;=0.0.8</td>\n      <td>148876.0</td>\n    </tr>\n    <tr>\n      <th>999998</th>\n      <td>75355555</td>\n      <td>NPM</td>\n      <td>co-wechat-api</td>\n      <td>136593</td>\n      <td>3.5.0</td>\n      <td>12642657</td>\n      <td>eslint</td>\n      <td>NPM</td>\n      <td>Development</td>\n      <td>False</td>\n      <td>*</td>\n      <td>145391.0</td>\n    </tr>\n    <tr>\n      <th>999999</th>\n      <td>75355699</td>\n      <td>NPM</td>\n      <td>co-wechat-api</td>\n      <td>136593</td>\n      <td>3.5.0</td>\n      <td>12642657</td>\n      <td>travis-cov</td>\n      <td>NPM</td>\n      <td>Development</td>\n      <td>False</td>\n      <td>*</td>\n      <td>324958.0</td>\n    </tr>\n  </tbody>\n</table>\n<p>1000000 rows × 12 columns</p>\n</div>"
     },
     "execution_count": 23,
     "metadata": {},
     "output_type": "execute_result"
    }
   ],
   "source": [
    "dependencies_npm_only_1M"
   ],
   "metadata": {
    "collapsed": false
   }
  }
 ],
 "metadata": {
  "kernelspec": {
   "display_name": "Python 3",
   "language": "python",
   "name": "python3"
  },
  "language_info": {
   "codemirror_mode": {
    "name": "ipython",
    "version": 2
   },
   "file_extension": ".py",
   "mimetype": "text/x-python",
   "name": "python",
   "nbconvert_exporter": "python",
   "pygments_lexer": "ipython2",
   "version": "2.7.6"
  }
 },
 "nbformat": 4,
 "nbformat_minor": 0
}
